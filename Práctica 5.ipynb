{
 "cells": [
  {
   "cell_type": "markdown",
   "metadata": {},
   "source": [
    "# Práctica 5: Pruebas estadísticas.\n",
    "\n",
    "Para esta práctica se realizan algunas pruebas estadísticas para los datos que se tienen en el csv con el que se ha estado trabajando, usando librerías como la de plotly, matplotlib, y pruebas estadistícas de python.\n",
    "\n",
    "Primero, y lo que hizo falta en la práctica anterior era importar plotly al notebook, esto se logro instalando directamente el plotly en el notebook usando conda par importar los paquetes. Esto se hizo en la práctica anterior como una actualización. Para ver como se logró esto, se puede verificar en este [link](https://github.com/mayraberrones94/Ciencia_de_Datos/blob/master/Pr%C3%A1ctica%204.ipynb) \n",
    "\n",
    "Ya que se tiene instalado el plotly y todas las demás librerías necesarias, se puede continuar con la práctica."
   ]
  },
  {
   "cell_type": "code",
   "execution_count": 4,
   "metadata": {},
   "outputs": [],
   "source": [
    "import plotly\n",
    "plotly.tools.set_credentials_file(username='MayraBerrones', api_key='BubmIKe5Gw0uVv3WKe1L')\n"
   ]
  },
  {
   "cell_type": "code",
   "execution_count": null,
   "metadata": {},
   "outputs": [],
   "source": []
  },
  {
   "cell_type": "markdown",
   "metadata": {},
   "source": [
    "Una vez que se conecta con la cuenta de plotly, se puede empezar a crear algunas gráficas. En este caso, se hizo un histograma overlay como el que se creó en la práctica anterior, pero en lugar de ser una imagen fija en png tenemos la herramienta interactiva que nos ofrece plotly."
   ]
  },
  {
   "cell_type": "code",
   "execution_count": 7,
   "metadata": {},
   "outputs": [
    {
     "name": "stderr",
     "output_type": "stream",
     "text": [
      "/Users/mayraberrones/miniconda3/lib/python3.6/site-packages/IPython/core/display.py:689: UserWarning:\n",
      "\n",
      "Consider using IPython.display.IFrame instead\n",
      "\n"
     ]
    },
    {
     "data": {
      "text/html": [
       "<iframe id=\"igraph\" scrolling=\"no\" style=\"border:none;\" seamless=\"seamless\" src=\"https://plot.ly/~MayraBerrones/9.embed\" height=\"525px\" width=\"100%\"></iframe>"
      ],
      "text/plain": [
       "<plotly.tools.PlotlyDisplay object>"
      ]
     },
     "execution_count": 7,
     "metadata": {},
     "output_type": "execute_result"
    }
   ],
   "source": [
    "import plotly.plotly as py\n",
    "import plotly.graph_objs as go\n",
    "import pandas as pd\n",
    "import numpy as np\n",
    "\n",
    "data = pd.read_csv(\"https://raw.githubusercontent.com/mayraberrones94/Ciencia_de_Datos/master/w-data.csv\")\n",
    "\n",
    "x0 = data.loc[data.diagnosis == 'M'].radius_mean \n",
    "x1 = data.loc[data.diagnosis == 'B'].radius_mean \n",
    "Maligno = go.Histogram(\n",
    "    x=x0,\n",
    "    opacity=0.75,\n",
    "    name='Maligno'\n",
    ")\n",
    "Benigno = go.Histogram(\n",
    "    x=x1,\n",
    "    opacity=0.75,\n",
    "    name='Benigno'\n",
    ")\n",
    "data = [Maligno, Benigno]\n",
    "layout = go.Layout(\n",
    "    title='Plot Title',\n",
    "    xaxis=dict(\n",
    "        title='x Axis',\n",
    "        titlefont=dict(\n",
    "            family='Courier New, monospace',\n",
    "            size=18,\n",
    "            color='#7f7f7f'\n",
    "        )\n",
    "    ),\n",
    "    yaxis=dict(\n",
    "        title='y Axis',\n",
    "        titlefont=dict(\n",
    "            family='Courier New, monospace',\n",
    "            size=18,\n",
    "            color='#7f7f7f'\n",
    "        )\n",
    "    )\n",
    ")\n",
    "layout = go.Layout(barmode='overlay')\n",
    "fig = go.Figure(data=data, layout=layout)\n",
    "\n",
    "py.iplot(fig, filename='overlaid histogram')"
   ]
  },
  {
   "cell_type": "code",
   "execution_count": null,
   "metadata": {},
   "outputs": [],
   "source": []
  },
  {
   "cell_type": "markdown",
   "metadata": {},
   "source": [
    "Ya que se tiene esta gráfica, se puede empezar a hacer experimentos con los análisis estadísticos. En este caso, se utilizaron dos de los datos que presentan comportamientos similares en el csv, que son el de 'radius_mean' y 'texture_mean' para ver si son datos normales."
   ]
  },
  {
   "cell_type": "code",
   "execution_count": 5,
   "metadata": {},
   "outputs": [
    {
     "name": "stderr",
     "output_type": "stream",
     "text": [
      "/Users/mayraberrones/miniconda3/lib/python3.6/site-packages/IPython/core/display.py:689: UserWarning:\n",
      "\n",
      "Consider using IPython.display.IFrame instead\n",
      "\n"
     ]
    },
    {
     "data": {
      "image/png": "[encoded data removed]",
      "text/plain": [
       "<Figure size 432x288 with 1 Axes>"
      ]
     },
     "metadata": {
      "needs_background": "light"
     },
     "output_type": "display_data"
    }
   ],
   "source": [
    "import plotly.plotly as py\n",
    "import plotly.graph_objs as go\n",
    "import pandas as pd\n",
    "from statsmodels.graphics.gofplots import qqplot\n",
    "import matplotlib as plt\n",
    "from numpy.random import randn\n",
    "from numpy import concatenate\n",
    "\n",
    "d = pd.read_csv(\"https://raw.githubusercontent.com/mayraberrones94/Ciencia_de_Datos/master/w-data.csv\")\n",
    "cfep = d.loc[d.diagnosis == 'M'].radius_mean # elisa primera\n",
    "cfes = d.loc[d.diagnosis == 'M'].texture_mean # elisa segunda\n",
    "cfmp = d.loc[d.diagnosis == 'B'].radius_mean # moi primera\n",
    "cfms = d.loc[d.diagnosis == 'B'].texture_mean # moi segunda\n",
    "\n",
    "layout = {'xaxis': {'range': [0, 100]}, 'yaxis': {'range': [0, 1]}, \\\n",
    "    'shapes': [{'type': 'line', 'x0': 70, 'y0': 0, 'x1': 70, 'y1': 1, \\\n",
    "            'line': {'color': 'rgb(255, 0, 0)', 'width': 2}}]}\n",
    "\n",
    "py.iplot({'data': [go.Histogram(x = cfms, histnorm='probability')], 'layout': layout}, filename='moi-cf2da')\n",
    "\n",
    "unimodal = 15 * randn(1000) + 75 # varianza 15, media 75\n",
    "bimodal = concatenate((unimodal, 20 * randn(1000) + 45)) # lo mismo pero ahora con un segundo bulto agregado\n",
    "\n",
    "f = qqplot(cfep, line='s')\n",
    "#plt.savefig(f, \"qq_cfep.png\")"
   ]
  },
  {
   "cell_type": "markdown",
   "metadata": {},
   "source": [
    "Cuando se observa que se tiene esa línea roja atravesando los datos, significa que son más o menos normales."
   ]
  },
  {
   "cell_type": "code",
   "execution_count": 9,
   "metadata": {},
   "outputs": [
    {
     "name": "stdout",
     "output_type": "stream",
     "text": [
      "Maligno - Radio 0.98 0.002\n",
      "no parece ser normal con nivel de significancia 0.05\n",
      "Maligno - Textura 0.97 0.000\n",
      "no parece ser normal con nivel de significancia 0.05\n",
      "Benigno - Radio 1.00 0.668\n",
      "aceptablemente normal con nivel de significancia 0.05\n",
      "Benigno - Textura 0.94 0.000\n",
      "no parece ser normal con nivel de significancia 0.05\n",
      "unim 1.00 0.834\n",
      "aceptablemente normal con nivel de significancia 0.05\n",
      "bim 0.99 0.000\n",
      "no parece ser normal con nivel de significancia 0.05\n",
      "Maligno - Radio 0.98 0.002\n",
      "no parece ser normal con nivel de significancia 0.01\n",
      "Maligno - Textura 0.97 0.000\n",
      "no parece ser normal con nivel de significancia 0.01\n",
      "Benigno - Radio 1.00 0.668\n",
      "aceptablemente normal con nivel de significancia 0.01\n",
      "Benigno - Textura 0.94 0.000\n",
      "no parece ser normal con nivel de significancia 0.01\n",
      "unim 1.00 0.834\n",
      "aceptablemente normal con nivel de significancia 0.01\n",
      "bim 0.99 0.000\n",
      "no parece ser normal con nivel de significancia 0.01\n"
     ]
    }
   ],
   "source": [
    "import pandas as pd\n",
    "from numpy.random import randn\n",
    "from numpy.random import seed\n",
    "from numpy import concatenate, isnan\n",
    "import ssl\n",
    "\n",
    "if getattr(ssl, '_create_unverified_context', None):\n",
    "    ssl._create_default_https_context = ssl._create_unverified_context\n",
    "d = pd.read_csv(\"https://raw.githubusercontent.com/mayraberrones94/Ciencia_de_Datos/master/w-data.csv\")\n",
    "\n",
    "seed(7)\n",
    "nd = 15 * randn(1000) + 75\n",
    "datos = {'Maligno - Radio': d.loc[d.diagnosis == 'M'].radius_mean , \\\n",
    "         'Maligno - Textura': d.loc[d.diagnosis == 'M'].texture_mean, \\\n",
    "         'Benigno - Radio': d.loc[d.diagnosis == 'B'].radius_mean, \\\n",
    "         'Benigno - Textura': d.loc[d.diagnosis == 'B'].texture_mean, \\\n",
    "         'unim': nd, \\\n",
    "         'bim': concatenate((nd, 20 * randn(1000) + 45))}\n",
    "\n",
    "from scipy.stats import shapiro\n",
    "for alpha in [0.05, 0.01]:\n",
    "    for data in datos:\n",
    "        crudos = datos[data]\n",
    "        s, p = shapiro(crudos[~isnan(crudos)]) # es MUY importante quitar los NaN\n",
    "        print('{:s} {:.2f} {:.3f}'.format(data, s, p))\n",
    "        if p > alpha:\n",
    "            print('aceptablemente normal con nivel de significancia', alpha)\n",
    "        else:\n",
    "            print('no parece ser normal con nivel de significancia', alpha)"
   ]
  },
  {
   "cell_type": "markdown",
   "metadata": {},
   "source": [
    "Después tenemos las pruebas con la librería ssl y numpy, que nos dice que la mayoría de los datos no son normales."
   ]
  },
  {
   "cell_type": "code",
   "execution_count": 14,
   "metadata": {},
   "outputs": [
    {
     "name": "stdout",
     "output_type": "stream",
     "text": [
      "Maligno\n",
      "212 212 8487.50 0.000\n",
      "se ven diferentemente distribuidos con nivel de significancia 0.05\n",
      "212 212 8487.50 0.000\n",
      "se ven diferentemente distribuidos con nivel de significancia 0.01\n",
      "Benigno\n",
      "357 357 8299.50 0.000\n",
      "se ven diferentemente distribuidos con nivel de significancia 0.05\n",
      "357 357 8299.50 0.000\n",
      "se ven diferentemente distribuidos con nivel de significancia 0.01\n"
     ]
    }
   ],
   "source": [
    "import pandas as pd\n",
    "from numpy.random import randn\n",
    "from numpy.random import seed\n",
    "from numpy import concatenate, isnan\n",
    "from scipy.stats import mannwhitneyu\n",
    "import ssl\n",
    "\n",
    "if getattr(ssl, '_create_unverified_context', None):\n",
    "    ssl._create_default_https_context = ssl._create_unverified_context\n",
    "d = pd.read_csv(\"https://raw.githubusercontent.com/mayraberrones94/Ciencia_de_Datos/master/w-data.csv\")\n",
    "\n",
    "seed(7)\n",
    "nd = 15 * randn(1000) + 75\n",
    "datos = {'Maligno-Radio': d.loc[d.diagnosis == 'M'].radius_mean , \\\n",
    "         'Maligno-Textura': d.loc[d.diagnosis == 'M'].texture_mean, \\\n",
    "         'Benigno-Radio': d.loc[d.diagnosis == 'B'].radius_mean, \\\n",
    "         'Benigno-Textura': d.loc[d.diagnosis == 'B'].texture_mean, \\\n",
    "         'unim': nd, \\\n",
    "         'bim': concatenate((nd, 20 * randn(1000) + 45))}\n",
    "\n",
    "def prueba(c1, c2):\n",
    "    d1 = c1[~isnan(c1)]\n",
    "    d2 = c2[~isnan(c2)]\n",
    "    n1 = len(d1)\n",
    "    n2 = len(d2)\n",
    "    if min(n1, n2) < 20:\n",
    "        print('hay muy pocos datos como para obtener un resultado confiable')\n",
    "        return\n",
    "    for alpha in [0.05, 0.01]:\n",
    "        s, p = mannwhitneyu(d1, d2)\n",
    "        print('{:d} {:d} {:.2f} {:.3f}'.format(n1, n2, s, p))\n",
    "        if p > alpha:\n",
    "            print('son igualmente distribuidos con nivel de significancia', alpha)\n",
    "        else:\n",
    "            print('se ven diferentemente distribuidos con nivel de significancia', alpha)\n",
    "\n",
    "print(\"Maligno\")\n",
    "prueba(datos['Maligno-Radio'], datos['Maligno-Textura'])\n",
    "print(\"Benigno\")\n",
    "prueba(datos['Benigno-Radio'], datos['Benigno-Textura'])"
   ]
  },
  {
   "cell_type": "markdown",
   "metadata": {},
   "source": [
    "Cuando se realiza una prueba más, se puede observar que los datos introducidos tienen una distribución distinta, dandole dos niveles de significancia, en ambos casos de diagnóstico Benigno y Maligno. "
   ]
  },
  {
   "cell_type": "code",
   "execution_count": 13,
   "metadata": {},
   "outputs": [
    {
     "name": "stdout",
     "output_type": "stream",
     "text": [
      "diagnosis 569 569 7362.50 0.000\n",
      "se ven diferentemente distribuidos con nivel de significancia 0.05\n",
      "diagnosis 569 569 7362.50 0.000\n",
      "se ven diferentemente distribuidos con nivel de significancia 0.01\n"
     ]
    }
   ],
   "source": [
    "import pandas as pd\n",
    "from numpy import isnan, nan\n",
    "import ssl\n",
    "\n",
    "if getattr(ssl, '_create_unverified_context', None):\n",
    "    ssl._create_default_https_context = ssl._create_unverified_context\n",
    "\n",
    "d = pd.read_csv(\"https://raw.githubusercontent.com/mayraberrones94/Ciencia_de_Datos/master/w-data.csv\")\n",
    "from scipy.stats import wilcoxon\n",
    "\n",
    "pares = dict()\n",
    "pedazo = d.loc[~isnan(d.diagnosis == 'M') & ~isnan(d.diagnosis == 'B')]\n",
    "pares['diagnosis'] = (pedazo.radius_mean, pedazo.texture_mean)\n",
    "\n",
    "\n",
    "for datos in pares:\n",
    "    (d1, d2) = pares[datos]\n",
    "    n1 = len(d1)\n",
    "    n2 = len(d2)\n",
    "    if min(n1, n2) < 20:\n",
    "        print('hay muy pocos datos de {:s} como para obtener un resultado confiable'.format(datos))\n",
    "    else:\n",
    "        for alpha in [0.05, 0.01]:\n",
    "            s, p = wilcoxon(d1, d2)\n",
    "            print('{:s} {:d} {:d} {:.2f} {:.3f}'.format(datos, n1, n2, s, p))\n",
    "            if p > alpha:\n",
    "                print('son igualmente distribuidos con nivel de significancia', alpha)\n",
    "            else:\n",
    "                print('se ven diferentemente distribuidos con nivel de significancia', alpha)"
   ]
  },
  {
   "cell_type": "markdown",
   "metadata": {},
   "source": [
    "En el último dato no se separan los diagnosticos en maligno y benigno, y aun asi, con ambas significancias da como resultado que los datos son diferentemente distribuidos."
   ]
  }
 ],
 "metadata": {
  "kernelspec": {
   "display_name": "Python 3",
   "language": "python",
   "name": "python3"
  },
  "language_info": {
   "codemirror_mode": {
    "name": "ipython",
    "version": 3
   },
   "file_extension": ".py",
   "mimetype": "text/x-python",
   "name": "python",
   "nbconvert_exporter": "python",
   "pygments_lexer": "ipython3",
   "version": "3.7.1"
  }
 },
 "nbformat": 4,
 "nbformat_minor": 2
}
