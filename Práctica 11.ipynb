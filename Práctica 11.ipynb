{
 "cells": [
  {
   "cell_type": "markdown",
   "metadata": {},
   "source": [
    "# Práctica 11: Agrupamiento de Datos.\n",
    "\n",
    "El agrupamiento o \"clustering\" es la tarea de agrupar un conjunto de objetos de tal manera que los miembros del mismo grupo sean más similares, en algún sentido u otro. Es la tarea principal de la minería de datos exploratoria y es una técnica común en el análisis de datos estadísticos. Además es utilizada en múltiples campos como el aprendizaje automático, el reconocimiento de patrones, el análisis de imágenes, la búsqueda y recuperación de información.\n",
    "\n",
    "El análisis de grupos no es en sí un algoritmo específico, se puede hacer el agrupamiento utilizando varios algoritmos que difieren significativamente en su idea de qué constituye un grupo y cómo encontrarlos eficientemente. \n",
    "\n",
    "En esta práctica se utilizaran datos diferentes a los que se han utilizado en prácticas anteriores, ya que estos son más sencillos de relacionar con grupos. Se trata de un csv sacado de la página de 'Kaggle' donde describen el genero, la raza, el nivel educativo de los padres, y las calificaciones de estudiantes, entre otras cosas. \n",
    "\n",
    "Lo primero que se realiza, al igual que en prácticas anteriores, es llamar el csv por medio de la herramienta de pandas."
   ]
  },
  {
   "cell_type": "code",
   "execution_count": 29,
   "metadata": {},
   "outputs": [],
   "source": [
    "import ssl\n",
    "import pandas as pd\n",
    "from sklearn import metrics\n",
    "from numpy.random import seed\n",
    "import matplotlib.pyplot as plt\n",
    "from sklearn.cluster import KMeans\n",
    "from numpy import isnan, nan, take, where\n",
    "import numpy as np\n",
    "seed(42)\n",
    "\n",
    "if getattr(ssl, '_create_unverified_context', None):\n",
    "    ssl._create_default_https_context = ssl._create_unverified_context\n",
    "e = pd.read_csv(\"https://raw.githubusercontent.com/mayraberrones94/Ciencia_de_Datos/master/StudentsPerformance.csv\")"
   ]
  },
  {
   "cell_type": "markdown",
   "metadata": {},
   "source": [
    "Se tienen identificados los distintos elementos dentro del csv, por lo que se etiquetan con números para hacer más sencilla su manipulación."
   ]
  },
  {
   "cell_type": "code",
   "execution_count": 30,
   "metadata": {},
   "outputs": [],
   "source": [
    "e['race'] = pd.factorize(e.race)[0] + 1\n",
    "e['gender'] = pd.factorize(e.race)[0] + 1\n",
    "e['prep'] = pd.factorize(e.race)[0] + 1\n"
   ]
  },
  {
   "cell_type": "code",
   "execution_count": 31,
   "metadata": {},
   "outputs": [
    {
     "data": {
      "text/html": [
       "<div>\n",
       "<style scoped>\n",
       "    .dataframe tbody tr th:only-of-type {\n",
       "        vertical-align: middle;\n",
       "    }\n",
       "\n",
       "    .dataframe tbody tr th {\n",
       "        vertical-align: top;\n",
       "    }\n",
       "\n",
       "    .dataframe thead th {\n",
       "        text-align: right;\n",
       "    }\n",
       "</style>\n",
       "<table border=\"1\" class=\"dataframe\">\n",
       "  <thead>\n",
       "    <tr style=\"text-align: right;\">\n",
       "      <th></th>\n",
       "      <th>gender</th>\n",
       "      <th>race</th>\n",
       "      <th>parental-ed</th>\n",
       "      <th>lunch</th>\n",
       "      <th>prep</th>\n",
       "      <th>math</th>\n",
       "      <th>read</th>\n",
       "      <th>write</th>\n",
       "      <th>prom</th>\n",
       "    </tr>\n",
       "  </thead>\n",
       "  <tbody>\n",
       "    <tr>\n",
       "      <th>0</th>\n",
       "      <td>1</td>\n",
       "      <td>1</td>\n",
       "      <td>bachelor's degree</td>\n",
       "      <td>standard</td>\n",
       "      <td>1</td>\n",
       "      <td>72</td>\n",
       "      <td>72</td>\n",
       "      <td>74</td>\n",
       "      <td>72.666667</td>\n",
       "    </tr>\n",
       "    <tr>\n",
       "      <th>1</th>\n",
       "      <td>2</td>\n",
       "      <td>2</td>\n",
       "      <td>some college</td>\n",
       "      <td>standard</td>\n",
       "      <td>2</td>\n",
       "      <td>69</td>\n",
       "      <td>90</td>\n",
       "      <td>88</td>\n",
       "      <td>82.333333</td>\n",
       "    </tr>\n",
       "    <tr>\n",
       "      <th>2</th>\n",
       "      <td>1</td>\n",
       "      <td>1</td>\n",
       "      <td>master's degree</td>\n",
       "      <td>standard</td>\n",
       "      <td>1</td>\n",
       "      <td>90</td>\n",
       "      <td>95</td>\n",
       "      <td>93</td>\n",
       "      <td>92.666667</td>\n",
       "    </tr>\n",
       "    <tr>\n",
       "      <th>3</th>\n",
       "      <td>3</td>\n",
       "      <td>3</td>\n",
       "      <td>associate's degree</td>\n",
       "      <td>free/reduced</td>\n",
       "      <td>3</td>\n",
       "      <td>47</td>\n",
       "      <td>57</td>\n",
       "      <td>44</td>\n",
       "      <td>49.333333</td>\n",
       "    </tr>\n",
       "    <tr>\n",
       "      <th>4</th>\n",
       "      <td>2</td>\n",
       "      <td>2</td>\n",
       "      <td>some college</td>\n",
       "      <td>standard</td>\n",
       "      <td>2</td>\n",
       "      <td>76</td>\n",
       "      <td>78</td>\n",
       "      <td>75</td>\n",
       "      <td>76.333333</td>\n",
       "    </tr>\n",
       "  </tbody>\n",
       "</table>\n",
       "</div>"
      ],
      "text/plain": [
       "   gender  race         parental-ed         lunch  prep  math  read  write  \\\n",
       "0       1     1   bachelor's degree      standard     1    72    72     74   \n",
       "1       2     2        some college      standard     2    69    90     88   \n",
       "2       1     1     master's degree      standard     1    90    95     93   \n",
       "3       3     3  associate's degree  free/reduced     3    47    57     44   \n",
       "4       2     2        some college      standard     2    76    78     75   \n",
       "\n",
       "        prom  \n",
       "0  72.666667  \n",
       "1  82.333333  \n",
       "2  92.666667  \n",
       "3  49.333333  \n",
       "4  76.333333  "
      ]
     },
     "execution_count": 31,
     "metadata": {},
     "output_type": "execute_result"
    }
   ],
   "source": [
    "e.head()"
   ]
  },
  {
   "cell_type": "code",
   "execution_count": 32,
   "metadata": {},
   "outputs": [
    {
     "data": {
      "text/html": [
       "<div>\n",
       "<style scoped>\n",
       "    .dataframe tbody tr th:only-of-type {\n",
       "        vertical-align: middle;\n",
       "    }\n",
       "\n",
       "    .dataframe tbody tr th {\n",
       "        vertical-align: top;\n",
       "    }\n",
       "\n",
       "    .dataframe thead th {\n",
       "        text-align: right;\n",
       "    }\n",
       "</style>\n",
       "<table border=\"1\" class=\"dataframe\">\n",
       "  <thead>\n",
       "    <tr style=\"text-align: right;\">\n",
       "      <th></th>\n",
       "      <th>gender</th>\n",
       "      <th>race</th>\n",
       "      <th>parental-ed</th>\n",
       "      <th>lunch</th>\n",
       "      <th>prep</th>\n",
       "      <th>math</th>\n",
       "      <th>read</th>\n",
       "      <th>write</th>\n",
       "      <th>prom</th>\n",
       "      <th>prom-int</th>\n",
       "    </tr>\n",
       "  </thead>\n",
       "  <tbody>\n",
       "    <tr>\n",
       "      <th>0</th>\n",
       "      <td>1</td>\n",
       "      <td>1</td>\n",
       "      <td>bachelor's degree</td>\n",
       "      <td>standard</td>\n",
       "      <td>1</td>\n",
       "      <td>72</td>\n",
       "      <td>72</td>\n",
       "      <td>74</td>\n",
       "      <td>72.666667</td>\n",
       "      <td>72</td>\n",
       "    </tr>\n",
       "    <tr>\n",
       "      <th>1</th>\n",
       "      <td>2</td>\n",
       "      <td>2</td>\n",
       "      <td>some college</td>\n",
       "      <td>standard</td>\n",
       "      <td>2</td>\n",
       "      <td>69</td>\n",
       "      <td>90</td>\n",
       "      <td>88</td>\n",
       "      <td>82.333333</td>\n",
       "      <td>82</td>\n",
       "    </tr>\n",
       "    <tr>\n",
       "      <th>2</th>\n",
       "      <td>1</td>\n",
       "      <td>1</td>\n",
       "      <td>master's degree</td>\n",
       "      <td>standard</td>\n",
       "      <td>1</td>\n",
       "      <td>90</td>\n",
       "      <td>95</td>\n",
       "      <td>93</td>\n",
       "      <td>92.666667</td>\n",
       "      <td>92</td>\n",
       "    </tr>\n",
       "    <tr>\n",
       "      <th>3</th>\n",
       "      <td>3</td>\n",
       "      <td>3</td>\n",
       "      <td>associate's degree</td>\n",
       "      <td>free/reduced</td>\n",
       "      <td>3</td>\n",
       "      <td>47</td>\n",
       "      <td>57</td>\n",
       "      <td>44</td>\n",
       "      <td>49.333333</td>\n",
       "      <td>49</td>\n",
       "    </tr>\n",
       "    <tr>\n",
       "      <th>4</th>\n",
       "      <td>2</td>\n",
       "      <td>2</td>\n",
       "      <td>some college</td>\n",
       "      <td>standard</td>\n",
       "      <td>2</td>\n",
       "      <td>76</td>\n",
       "      <td>78</td>\n",
       "      <td>75</td>\n",
       "      <td>76.333333</td>\n",
       "      <td>76</td>\n",
       "    </tr>\n",
       "  </tbody>\n",
       "</table>\n",
       "</div>"
      ],
      "text/plain": [
       "   gender  race         parental-ed         lunch  prep  math  read  write  \\\n",
       "0       1     1   bachelor's degree      standard     1    72    72     74   \n",
       "1       2     2        some college      standard     2    69    90     88   \n",
       "2       1     1     master's degree      standard     1    90    95     93   \n",
       "3       3     3  associate's degree  free/reduced     3    47    57     44   \n",
       "4       2     2        some college      standard     2    76    78     75   \n",
       "\n",
       "        prom  prom-int  \n",
       "0  72.666667        72  \n",
       "1  82.333333        82  \n",
       "2  92.666667        92  \n",
       "3  49.333333        49  \n",
       "4  76.333333        76  "
      ]
     },
     "execution_count": 32,
     "metadata": {},
     "output_type": "execute_result"
    }
   ],
   "source": [
    "e['prom-int'] = e['prom'].apply(np.int64)\n",
    "e.head()"
   ]
  },
  {
   "cell_type": "code",
   "execution_count": 36,
   "metadata": {},
   "outputs": [
    {
     "data": {
      "text/plain": [
       "array([\"bachelor's degree\", 'some college', \"master's degree\",\n",
       "       \"associate's degree\", 'high school', 'some high school'],\n",
       "      dtype=object)"
      ]
     },
     "execution_count": 36,
     "metadata": {},
     "output_type": "execute_result"
    }
   ],
   "source": [
    "e['parental-ed'].unique()\n"
   ]
  },
  {
   "cell_type": "code",
   "execution_count": 40,
   "metadata": {},
   "outputs": [
    {
     "data": {
      "text/html": [
       "<div>\n",
       "<style scoped>\n",
       "    .dataframe tbody tr th:only-of-type {\n",
       "        vertical-align: middle;\n",
       "    }\n",
       "\n",
       "    .dataframe tbody tr th {\n",
       "        vertical-align: top;\n",
       "    }\n",
       "\n",
       "    .dataframe thead th {\n",
       "        text-align: right;\n",
       "    }\n",
       "</style>\n",
       "<table border=\"1\" class=\"dataframe\">\n",
       "  <thead>\n",
       "    <tr style=\"text-align: right;\">\n",
       "      <th></th>\n",
       "      <th>gender</th>\n",
       "      <th>race</th>\n",
       "      <th>parental-ed</th>\n",
       "      <th>lunch</th>\n",
       "      <th>prep</th>\n",
       "      <th>math</th>\n",
       "      <th>read</th>\n",
       "      <th>write</th>\n",
       "      <th>prom</th>\n",
       "      <th>prom-int</th>\n",
       "    </tr>\n",
       "  </thead>\n",
       "  <tbody>\n",
       "    <tr>\n",
       "      <th>0</th>\n",
       "      <td>1</td>\n",
       "      <td>1</td>\n",
       "      <td>1</td>\n",
       "      <td>1</td>\n",
       "      <td>1</td>\n",
       "      <td>72</td>\n",
       "      <td>72</td>\n",
       "      <td>74</td>\n",
       "      <td>72.666667</td>\n",
       "      <td>72</td>\n",
       "    </tr>\n",
       "    <tr>\n",
       "      <th>1</th>\n",
       "      <td>2</td>\n",
       "      <td>2</td>\n",
       "      <td>2</td>\n",
       "      <td>2</td>\n",
       "      <td>2</td>\n",
       "      <td>69</td>\n",
       "      <td>90</td>\n",
       "      <td>88</td>\n",
       "      <td>82.333333</td>\n",
       "      <td>82</td>\n",
       "    </tr>\n",
       "    <tr>\n",
       "      <th>2</th>\n",
       "      <td>1</td>\n",
       "      <td>1</td>\n",
       "      <td>1</td>\n",
       "      <td>1</td>\n",
       "      <td>1</td>\n",
       "      <td>90</td>\n",
       "      <td>95</td>\n",
       "      <td>93</td>\n",
       "      <td>92.666667</td>\n",
       "      <td>92</td>\n",
       "    </tr>\n",
       "    <tr>\n",
       "      <th>3</th>\n",
       "      <td>3</td>\n",
       "      <td>3</td>\n",
       "      <td>3</td>\n",
       "      <td>3</td>\n",
       "      <td>3</td>\n",
       "      <td>47</td>\n",
       "      <td>57</td>\n",
       "      <td>44</td>\n",
       "      <td>49.333333</td>\n",
       "      <td>49</td>\n",
       "    </tr>\n",
       "    <tr>\n",
       "      <th>4</th>\n",
       "      <td>2</td>\n",
       "      <td>2</td>\n",
       "      <td>2</td>\n",
       "      <td>2</td>\n",
       "      <td>2</td>\n",
       "      <td>76</td>\n",
       "      <td>78</td>\n",
       "      <td>75</td>\n",
       "      <td>76.333333</td>\n",
       "      <td>76</td>\n",
       "    </tr>\n",
       "  </tbody>\n",
       "</table>\n",
       "</div>"
      ],
      "text/plain": [
       "   gender  race  parental-ed  lunch  prep  math  read  write       prom  \\\n",
       "0       1     1            1      1     1    72    72     74  72.666667   \n",
       "1       2     2            2      2     2    69    90     88  82.333333   \n",
       "2       1     1            1      1     1    90    95     93  92.666667   \n",
       "3       3     3            3      3     3    47    57     44  49.333333   \n",
       "4       2     2            2      2     2    76    78     75  76.333333   \n",
       "\n",
       "   prom-int  \n",
       "0        72  \n",
       "1        82  \n",
       "2        92  \n",
       "3        49  \n",
       "4        76  "
      ]
     },
     "execution_count": 40,
     "metadata": {},
     "output_type": "execute_result"
    }
   ],
   "source": [
    "e['parental-ed'] = pd.factorize(e.race)[0] + 1\n",
    "e['lunch'] = pd.factorize(e.race)[0] + 1\n",
    "e.head()"
   ]
  },
  {
   "cell_type": "markdown",
   "metadata": {},
   "source": [
    "Una vez que se tienen los datos de manera más ordenada, se continua siguiendo los pasos dictados en la práctica de prueba para saber la relación que se tienen en los diferentes grupos. En este caso parece interesante saber si el nivel educativo de los padres tiene un papel importante para el resultado final del promedio en calificación del alumno. Se toman entonces como referencia la columna de 'parental-ed' y 'prom'."
   ]
  },
  {
   "cell_type": "code",
   "execution_count": 91,
   "metadata": {},
   "outputs": [
    {
     "name": "stdout",
     "output_type": "stream",
     "text": [
      "274 Grupo 0\n",
      "287 Grupo 1\n",
      "439 Grupo 2\n"
     ]
    },
    {
     "data": {
      "image/png": "[encoded data removed]",
      "text/plain": [
       "<Figure size 432x288 with 1 Axes>"
      ]
     },
     "metadata": {
      "needs_background": "light"
     },
     "output_type": "display_data"
    },
    {
     "name": "stdout",
     "output_type": "stream",
     "text": [
      "0.5100526730934494\n"
     ]
    }
   ],
   "source": [
    "keep = ['prom', 'parental-ed']\n",
    "d = e.loc[:, keep]\n",
    "x = d.values\n",
    "k =3\n",
    "m = KMeans(init = 'random', n_clusters = k, n_init = 10)\n",
    "m.fit(x)\n",
    "centroides = m.cluster_centers_\n",
    "grupos = m.predict(x)\n",
    "plt.figure(1)\n",
    "plt.scatter(centroides[:, 0], centroides[:, 1], marker='x', s=150, linewidths=3, color='black', zorder=10)\n",
    "colores = ['r', 'g', 'b']\n",
    "for g in range(k):\n",
    "    incl = where(grupos == g)[0]\n",
    "    print(len(incl), \"Grupo\", g)\n",
    "    grupo = take(x, incl, 0)\n",
    "    plt.scatter(grupo[:, 0], grupo[:, 1], marker='o', s=20, linewidths=2, color=colores[g], alpha = 0.3, zorder=5)\n",
    "plt.show()\n",
    "print(metrics.silhouette_score(x, grupos, metric='euclidean'))"
   ]
  },
  {
   "cell_type": "markdown",
   "metadata": {},
   "source": [
    "Según la interpretación vista en la práctica de prueba de la Dra. Elisa, se puede concluir con la gráfica que el nivel de educación que tienen los padres influye un poco en la calificación final del alumno, ya que las calificaciones más altas parecen coincidir con el centroide que indica una educación arriba del promedio, mientras que se aprecia también que cuando la calificación disminuye, los centroides de la educación van moviendose a un nivel más bajo."
   ]
  },
  {
   "cell_type": "code",
   "execution_count": 100,
   "metadata": {},
   "outputs": [
    {
     "data": {
      "image/png": "[encoded data removed]",
      "text/plain": [
       "<Figure size 432x288 with 1 Axes>"
      ]
     },
     "metadata": {
      "needs_background": "light"
     },
     "output_type": "display_data"
    }
   ],
   "source": [
    "import ssl\n",
    "import pandas as pd\n",
    "from sklearn import metrics\n",
    "from numpy.random import seed\n",
    "import matplotlib.pyplot as plt\n",
    "from numpy import isnan, nan, take, where\n",
    "from sklearn.cluster import KMeans\n",
    "\n",
    "ks = [k for k in range(2, 11)]\n",
    "sil = []\n",
    "for k in ks:\n",
    "    m = KMeans(init = 'random', n_clusters = k, n_init = 2)\n",
    "    m.fit(x)\n",
    "    sil.append(metrics.silhouette_score(x, m.predict(x), metric='euclidean'))\n",
    "plt.figure(1)\n",
    "plt.plot(ks, sil)\n",
    "plt.show()"
   ]
  },
  {
   "cell_type": "code",
   "execution_count": 104,
   "metadata": {},
   "outputs": [
    {
     "name": "stdout",
     "output_type": "stream",
     "text": [
      "100 integrantes en grupo 0\n",
      "63 integrantes en grupo 1\n",
      "57 integrantes en grupo 2\n",
      "37 integrantes en grupo 3\n",
      "53 integrantes en grupo 4\n",
      "70 integrantes en grupo 5\n"
     ]
    },
    {
     "data": {
      "image/png": "[encoded data removed]",
      "text/plain": [
       "<Figure size 432x288 with 1 Axes>"
      ]
     },
     "metadata": {
      "needs_background": "light"
     },
     "output_type": "display_data"
    },
    {
     "name": "stdout",
     "output_type": "stream",
     "text": [
      "0.49269593361380565\n"
     ]
    }
   ],
   "source": [
    "import ssl\n",
    "import pandas as pd\n",
    "import seaborn as sns\n",
    "from sklearn import metrics\n",
    "import matplotlib.pyplot as plt\n",
    "from numpy.random import multivariate_normal, seed\n",
    "from numpy import take, where, unique, concatenate\n",
    "from sklearn.cluster import AffinityPropagation\n",
    "seed(17)\n",
    "g1 = multivariate_normal([1.3, 0.0], [[1, 0.4], [0.4, 1]], 100)\n",
    "g2 = multivariate_normal([6.0, 8.0], [[1.2, 0.3], [0.3, 0.5]], 120)\n",
    "g3 = multivariate_normal([3.0, -9.0], [[0.75, 0.6], [0.6, 2]],160)\n",
    "x = concatenate((g1, g2, g3))\n",
    "m = AffinityPropagation(damping = 0.9, convergence_iter = 30)\n",
    "c = m.fit(x)\n",
    "grupos = c.labels_\n",
    "plt.clf()\n",
    "plt.figure(1)\n",
    "k = len(unique(grupos))\n",
    "colores = sns.color_palette(\"husl\", k)\n",
    "for g in range(k):\n",
    "    incl = where(grupos == g)[0]\n",
    "    print(len(incl), \"integrantes en grupo\", g)\n",
    "    grupo = take(x, incl, 0)\n",
    "    plt.scatter(grupo[:, 0], grupo[:, 1], marker='o', s=20, linewidths=2, color=colores[g], alpha = 0.6, zorder=5)\n",
    "plt.show()\n",
    "print(metrics.silhouette_score(x, grupos, metric='euclidean'))"
   ]
  },
  {
   "cell_type": "markdown",
   "metadata": {},
   "source": [
    "En estos últimos dos experimentos que se realizaron, se intentó mover algunos de los parámetros presentaods con la idea de encontrar los valores que dieran una respuesta facil de interpretar, como pasó en la primer gráfica, pero la única que logró capturar más la atención fue esta final. En este caso se jugó con diferentes valores para la parte de 'multivariate_normal' y no importa que tan grande sea el primer número, ese cluster que se forma en la parte superior sigue siendo igual de separado de los otros de abajo. \n",
    "\n",
    "Esto puede significar el grupo de alumnos con buena calificación, y esos dos colores que se notan son los dos tipos de nivel de educación a los que llegaron sus padres. En el caso del cluster de en medio, su color se queda fijo y su tamaño de puntos también, por lo que supongo que se traduce a una educación promedio, tiene como resultado calificaciones promedio.\n",
    "\n",
    "El último cluster representa un misterio, ya que algunas veces, aumentando los otros valores, este cambiaba de color también. \n",
    "\n",
    "En general, y con los resultados obtenidos puedo sacar como conclusión con estos datos que el nivel de educación que tienen los padres de los alumnos si afecta un poco en la calificación global que estos puedan obtener. La razón porque la diferencia sea tan pequeña en la primer gráfica, puede ser que el nivel académico no refleje el compromiso o la inteligencia de los padres, más sin embargo, los recursos disponibles por estas personas para poder completar sus estudios."
   ]
  }
 ],
 "metadata": {
  "kernelspec": {
   "display_name": "Python 3",
   "language": "python",
   "name": "python3"
  },
  "language_info": {
   "codemirror_mode": {
    "name": "ipython",
    "version": 3
   },
   "file_extension": ".py",
   "mimetype": "text/x-python",
   "name": "python",
   "nbconvert_exporter": "python",
   "pygments_lexer": "ipython3",
   "version": "3.7.1"
  }
 },
 "nbformat": 4,
 "nbformat_minor": 2
}
