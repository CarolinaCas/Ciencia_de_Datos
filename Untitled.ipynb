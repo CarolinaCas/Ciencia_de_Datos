{
 "cells": [
  {
   "cell_type": "code",
   "execution_count": null,
   "metadata": {},
   "outputs": [],
   "source": [
    "def procesa(line):\n",
    "    salida = ''\n",
    "    ignora = False\n",
    "    for c in line:\n",
    "        if c == '\"':\n",
    "            ignora = not ignora\n",
    "            continue\n",
    "        else:\n",
    "            if c == '\\n':\n",
    "                return salida\n",
    "            if not ignora:\n",
    "                salida += c\n",
    "            elif not c == ',':\n",
    "                salida += c\n",
    "    return salida\n",
    "\n",
    "from sys import argv\n",
    "with open(argv[1], 'r') as input:\n",
    "    for line in input:\n",
    "        print(procesa(line))"
   ]
  }
 ],
 "metadata": {
  "kernelspec": {
   "display_name": "Python 3",
   "language": "python",
   "name": "python3"
  },
  "language_info": {
   "codemirror_mode": {
    "name": "ipython",
    "version": 3
   },
   "file_extension": ".py",
   "mimetype": "text/x-python",
   "name": "python",
   "nbconvert_exporter": "python",
   "pygments_lexer": "ipython3",
   "version": "3.7.1"
  }
 },
 "nbformat": 4,
 "nbformat_minor": 2
}
