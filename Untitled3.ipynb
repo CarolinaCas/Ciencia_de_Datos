{
 "cells": [
  {
   "cell_type": "code",
   "execution_count": null,
   "metadata": {},
   "outputs": [],
   "source": [
    "import statsmodels.api as sm\n",
    "from statsmodels.formula.api import ols\n",
    "from numpy import isnan\n",
    "import pandas as pd\n",
    "import ssl\n",
    "\n",
    "if getattr(ssl, '_create_unverified_context', None):\n",
    "    ssl._create_default_https_context = ssl._create_unverified_context\n",
    "o = pd.read_csv(\"https://elisa.dyndns-web.com/teaching/comp/datasci/modelar.csv\")\n",
    "x = o.loc[o.profe == 'elisa']\n",
    "datos = pd.concat([x.loc[x.CF1op >= 70], x.loc[~isnan(x.CF2op)]]) # discretas con elisa\n",
    "d = pd.DataFrame(datos, columns = [\"CF1op\", \"hrsNum\", \"eM\", \"eF\"])\n",
    "d = d.dropna() \n",
    "m = ols('CF1op ~ hrsNum + eM + eF', data = d).fit() \n",
    "a = sm.stats.anova_lm(m, typ = 2)\n",
    "print(a)\n",
    "n = len(a)\n",
    "alpha = 0.05\n",
    "for i in range(n):\n",
    "    print(\"{:s} {:s}es significativo\".format(a.index[i], \"\" if a['PR(>F)'][i] < alpha else \"no \"))"
   ]
  }
 ],
 "metadata": {
  "kernelspec": {
   "display_name": "Python 3",
   "language": "python",
   "name": "python3"
  },
  "language_info": {
   "codemirror_mode": {
    "name": "ipython",
    "version": 3
   },
   "file_extension": ".py",
   "mimetype": "text/x-python",
   "name": "python",
   "nbconvert_exporter": "python",
   "pygments_lexer": "ipython3",
   "version": "3.7.1"
  }
 },
 "nbformat": 4,
 "nbformat_minor": 2
}
