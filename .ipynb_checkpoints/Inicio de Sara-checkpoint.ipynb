{
 "cells": [
  {
   "cell_type": "code",
   "execution_count": 4,
   "metadata": {},
   "outputs": [],
   "source": [
    "import pandas as pd\n",
    "\n",
    "df = pd.read_csv(\"/Users/mayraberrones/Downloads/anual.csv\")"
   ]
  },
  {
   "cell_type": "code",
   "execution_count": 5,
   "metadata": {},
   "outputs": [
    {
     "data": {
      "text/html": [
       "<div>\n",
       "<style scoped>\n",
       "    .dataframe tbody tr th:only-of-type {\n",
       "        vertical-align: middle;\n",
       "    }\n",
       "\n",
       "    .dataframe tbody tr th {\n",
       "        vertical-align: top;\n",
       "    }\n",
       "\n",
       "    .dataframe thead th {\n",
       "        text-align: right;\n",
       "    }\n",
       "</style>\n",
       "<table border=\"1\" class=\"dataframe\">\n",
       "  <thead>\n",
       "    <tr style=\"text-align: right;\">\n",
       "      <th></th>\n",
       "      <th>Unnamed: 0</th>\n",
       "      <th>Unnamed: 1</th>\n",
       "      <th>Enero</th>\n",
       "      <th>Unnamed: 3</th>\n",
       "      <th>Febrero</th>\n",
       "      <th>Unnamed: 5</th>\n",
       "      <th>Marzo</th>\n",
       "      <th>Unnamed: 7</th>\n",
       "      <th>Abril</th>\n",
       "      <th>Unnamed: 9</th>\n",
       "      <th>...</th>\n",
       "      <th>Agosto</th>\n",
       "      <th>Unnamed: 17</th>\n",
       "      <th>Septiembre</th>\n",
       "      <th>Unnamed: 19</th>\n",
       "      <th>Octubre</th>\n",
       "      <th>Unnamed: 21</th>\n",
       "      <th>Noviembre</th>\n",
       "      <th>Unnamed: 23</th>\n",
       "      <th>Diciembre</th>\n",
       "      <th>Unnamed: 25</th>\n",
       "    </tr>\n",
       "  </thead>\n",
       "  <tbody>\n",
       "    <tr>\n",
       "      <th>0</th>\n",
       "      <td>AÑO</td>\n",
       "      <td>Codigo</td>\n",
       "      <td>Prod.</td>\n",
       "      <td>Venta</td>\n",
       "      <td>Prod.</td>\n",
       "      <td>Venta</td>\n",
       "      <td>Prod.</td>\n",
       "      <td>Venta</td>\n",
       "      <td>Prod.</td>\n",
       "      <td>Venta</td>\n",
       "      <td>...</td>\n",
       "      <td>Prod.</td>\n",
       "      <td>Venta</td>\n",
       "      <td>Prod.</td>\n",
       "      <td>Venta</td>\n",
       "      <td>Prod.</td>\n",
       "      <td>Venta</td>\n",
       "      <td>Prod.</td>\n",
       "      <td>Venta</td>\n",
       "      <td>Prod.</td>\n",
       "      <td>Venta</td>\n",
       "    </tr>\n",
       "    <tr>\n",
       "      <th>1</th>\n",
       "      <td>2014</td>\n",
       "      <td>A1</td>\n",
       "      <td>97,964</td>\n",
       "      <td>-</td>\n",
       "      <td>10,746</td>\n",
       "      <td>-</td>\n",
       "      <td>91,992</td>\n",
       "      <td>-</td>\n",
       "      <td>50,939</td>\n",
       "      <td>-</td>\n",
       "      <td>...</td>\n",
       "      <td>40,331</td>\n",
       "      <td>-</td>\n",
       "      <td>67,834</td>\n",
       "      <td>-</td>\n",
       "      <td>114,278</td>\n",
       "      <td>-</td>\n",
       "      <td>96,302</td>\n",
       "      <td>-</td>\n",
       "      <td>138,671</td>\n",
       "      <td>-</td>\n",
       "    </tr>\n",
       "  </tbody>\n",
       "</table>\n",
       "<p>2 rows × 26 columns</p>\n",
       "</div>"
      ],
      "text/plain": [
       "  Unnamed: 0 Unnamed: 1   Enero Unnamed: 3 Febrero Unnamed: 5   Marzo  \\\n",
       "0        AÑO     Codigo   Prod.      Venta   Prod.      Venta   Prod.   \n",
       "1       2014         A1  97,964       -     10,746       -     91,992   \n",
       "\n",
       "  Unnamed: 7   Abril Unnamed: 9     ...      Agosto Unnamed: 17 Septiembre  \\\n",
       "0      Venta   Prod.      Venta     ...       Prod.       Venta      Prod.   \n",
       "1       -     50,939       -        ...      40,331        -        67,834   \n",
       "\n",
       "  Unnamed: 19  Octubre Unnamed: 21 Noviembre Unnamed: 23 Diciembre Unnamed: 25  \n",
       "0       Venta    Prod.       Venta     Prod.       Venta     Prod.       Venta  \n",
       "1        -     114,278        -       96,302        -      138,671        -     \n",
       "\n",
       "[2 rows x 26 columns]"
      ]
     },
     "execution_count": 5,
     "metadata": {},
     "output_type": "execute_result"
    }
   ],
   "source": [
    "df.head(2)"
   ]
  },
  {
   "cell_type": "code",
   "execution_count": 7,
   "metadata": {},
   "outputs": [
    {
     "data": {
      "text/plain": [
       "1760"
      ]
     },
     "execution_count": 7,
     "metadata": {},
     "output_type": "execute_result"
    }
   ],
   "source": [
    "len(df)"
   ]
  },
  {
   "cell_type": "code",
   "execution_count": null,
   "metadata": {},
   "outputs": [],
   "source": [
    "for i in range (0, len(df)):\n",
    "    "
   ]
  }
 ],
 "metadata": {
  "kernelspec": {
   "display_name": "Python 3",
   "language": "python",
   "name": "python3"
  },
  "language_info": {
   "codemirror_mode": {
    "name": "ipython",
    "version": 3
   },
   "file_extension": ".py",
   "mimetype": "text/x-python",
   "name": "python",
   "nbconvert_exporter": "python",
   "pygments_lexer": "ipython3",
   "version": "3.7.1"
  }
 },
 "nbformat": 4,
 "nbformat_minor": 2
}
