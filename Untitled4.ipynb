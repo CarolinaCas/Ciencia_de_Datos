{
 "cells": [
  {
   "cell_type": "code",
   "execution_count": 16,
   "metadata": {},
   "outputs": [],
   "source": [
    "import ssl\n",
    "import pandas as pd\n",
    "from sklearn import metrics\n",
    "from numpy.random import seed\n",
    "import matplotlib.pyplot as plt\n",
    "from sklearn.cluster import KMeans\n",
    "from numpy import isnan, nan, take, where\n",
    "seed(42)\n",
    "if getattr(ssl, '_create_unverified_context', None):\n",
    "    ssl._create_default_https_context = ssl._create_unverified_context\n",
    "e = pd.read_csv(\"https://raw.githubusercontent.com/mayraberrones94/Ciencia_de_Datos/master/StudentsPerformance.csv\")"
   ]
  },
  {
   "cell_type": "code",
   "execution_count": 17,
   "metadata": {},
   "outputs": [],
   "source": [
    "e['race'] = pd.factorize(e.race)[0] + 1\n",
    "e['gender'] = pd.factorize(e.race)[0] + 1\n",
    "e['prep'] = pd.factorize(e.race)[0] + 1\n"
   ]
  },
  {
   "cell_type": "code",
   "execution_count": 18,
   "metadata": {},
   "outputs": [
    {
     "data": {
      "text/html": [
       "<div>\n",
       "<style scoped>\n",
       "    .dataframe tbody tr th:only-of-type {\n",
       "        vertical-align: middle;\n",
       "    }\n",
       "\n",
       "    .dataframe tbody tr th {\n",
       "        vertical-align: top;\n",
       "    }\n",
       "\n",
       "    .dataframe thead th {\n",
       "        text-align: right;\n",
       "    }\n",
       "</style>\n",
       "<table border=\"1\" class=\"dataframe\">\n",
       "  <thead>\n",
       "    <tr style=\"text-align: right;\">\n",
       "      <th></th>\n",
       "      <th>gender</th>\n",
       "      <th>race</th>\n",
       "      <th>parental-ed</th>\n",
       "      <th>lunch</th>\n",
       "      <th>prep</th>\n",
       "      <th>math</th>\n",
       "      <th>read</th>\n",
       "      <th>write</th>\n",
       "    </tr>\n",
       "  </thead>\n",
       "  <tbody>\n",
       "    <tr>\n",
       "      <th>0</th>\n",
       "      <td>1</td>\n",
       "      <td>1</td>\n",
       "      <td>bachelor's degree</td>\n",
       "      <td>standard</td>\n",
       "      <td>1</td>\n",
       "      <td>72</td>\n",
       "      <td>72</td>\n",
       "      <td>74</td>\n",
       "    </tr>\n",
       "    <tr>\n",
       "      <th>1</th>\n",
       "      <td>2</td>\n",
       "      <td>2</td>\n",
       "      <td>some college</td>\n",
       "      <td>standard</td>\n",
       "      <td>2</td>\n",
       "      <td>69</td>\n",
       "      <td>90</td>\n",
       "      <td>88</td>\n",
       "    </tr>\n",
       "    <tr>\n",
       "      <th>2</th>\n",
       "      <td>1</td>\n",
       "      <td>1</td>\n",
       "      <td>master's degree</td>\n",
       "      <td>standard</td>\n",
       "      <td>1</td>\n",
       "      <td>90</td>\n",
       "      <td>95</td>\n",
       "      <td>93</td>\n",
       "    </tr>\n",
       "    <tr>\n",
       "      <th>3</th>\n",
       "      <td>3</td>\n",
       "      <td>3</td>\n",
       "      <td>associate's degree</td>\n",
       "      <td>free/reduced</td>\n",
       "      <td>3</td>\n",
       "      <td>47</td>\n",
       "      <td>57</td>\n",
       "      <td>44</td>\n",
       "    </tr>\n",
       "    <tr>\n",
       "      <th>4</th>\n",
       "      <td>2</td>\n",
       "      <td>2</td>\n",
       "      <td>some college</td>\n",
       "      <td>standard</td>\n",
       "      <td>2</td>\n",
       "      <td>76</td>\n",
       "      <td>78</td>\n",
       "      <td>75</td>\n",
       "    </tr>\n",
       "  </tbody>\n",
       "</table>\n",
       "</div>"
      ],
      "text/plain": [
       "   gender  race         parental-ed         lunch  prep  math  read  write\n",
       "0       1     1   bachelor's degree      standard     1    72    72     74\n",
       "1       2     2        some college      standard     2    69    90     88\n",
       "2       1     1     master's degree      standard     1    90    95     93\n",
       "3       3     3  associate's degree  free/reduced     3    47    57     44\n",
       "4       2     2        some college      standard     2    76    78     75"
      ]
     },
     "execution_count": 18,
     "metadata": {},
     "output_type": "execute_result"
    }
   ],
   "source": [
    "e.head()"
   ]
  },
  {
   "cell_type": "code",
   "execution_count": 14,
   "metadata": {},
   "outputs": [
    {
     "name": "stdout",
     "output_type": "stream",
     "text": [
      "246 Grupo 0\n",
      "307 Grupo 1\n",
      "447 Grupo 2\n"
     ]
    },
    {
     "data": {
      "image/png": "[encoded data removed]",
      "text/plain": [
       "<Figure size 432x288 with 1 Axes>"
      ]
     },
     "metadata": {
      "needs_background": "light"
     },
     "output_type": "display_data"
    },
    {
     "name": "stdout",
     "output_type": "stream",
     "text": [
      "0.42076250867514003\n"
     ]
    }
   ],
   "source": [
    "\n",
    "\n",
    "keep = ['math', 'read'] # dos atributos numéricos para comenzar\n",
    "d = e.loc[:, keep]\n",
    "x = d.values\n",
    "k =3 # pedimos tres grupos\n",
    "m = KMeans(init = 'random', n_clusters = k, n_init = 10)\n",
    "m.fit(x)\n",
    "centroides = m.cluster_centers_\n",
    "grupos = m.predict(x)\n",
    "plt.figure(1)\n",
    "plt.scatter(centroides[:, 0], centroides[:, 1], marker='x', s=150, linewidths=3, color='black', zorder=10)\n",
    "colores = ['r', 'g', 'b']\n",
    "for g in range(k):\n",
    "    incl = where(grupos == g)[0]\n",
    "    print(len(incl), \"Grupo\", g)\n",
    "    grupo = take(x, incl, 0)\n",
    "    plt.scatter(grupo[:, 0], grupo[:, 1], marker='o', s=20, linewidths=2, color=colores[g], alpha = 0.3, zorder=5)\n",
    "plt.show()\n",
    "print(metrics.silhouette_score(x, grupos, metric='euclidean'))"
   ]
  },
  {
   "cell_type": "code",
   "execution_count": 15,
   "metadata": {},
   "outputs": [
    {
     "data": {
      "image/png": "[encoded data removed]",
      "text/plain": [
       "<Figure size 432x288 with 1 Axes>"
      ]
     },
     "metadata": {
      "needs_background": "light"
     },
     "output_type": "display_data"
    }
   ],
   "source": [
    "import ssl\n",
    "import pandas as pd\n",
    "from sklearn import metrics\n",
    "from numpy.random import seed\n",
    "import matplotlib.pyplot as plt\n",
    "from numpy import isnan, nan, take, where\n",
    "from sklearn.cluster import KMeans\n",
    "\n",
    "ks = [k for k in range(2, 20)]\n",
    "sil = []\n",
    "for k in ks:\n",
    "    m = KMeans(init = 'random', n_clusters = k, n_init = 10)\n",
    "    m.fit(x)\n",
    "    sil.append(metrics.silhouette_score(x, m.predict(x), metric='euclidean'))\n",
    "plt.figure(1)\n",
    "plt.plot(ks, sil)\n",
    "plt.show()"
   ]
  },
  {
   "cell_type": "code",
   "execution_count": 4,
   "metadata": {},
   "outputs": [
    {
     "name": "stdout",
     "output_type": "stream",
     "text": [
      "80 integrantes en grupo 0\n",
      "50 integrantes en grupo 1\n",
      "75 integrantes en grupo 2\n"
     ]
    },
    {
     "data": {
      "image/png": "[encoded data removed]",
      "text/plain": [
       "<Figure size 432x288 with 1 Axes>"
      ]
     },
     "metadata": {
      "needs_background": "light"
     },
     "output_type": "display_data"
    },
    {
     "name": "stdout",
     "output_type": "stream",
     "text": [
      "0.7938171257680096\n"
     ]
    }
   ],
   "source": [
    "import ssl\n",
    "import pandas as pd\n",
    "import seaborn as sns\n",
    "from sklearn import metrics\n",
    "import matplotlib.pyplot as plt\n",
    "from numpy.random import multivariate_normal, seed\n",
    "from numpy import take, where, unique, concatenate\n",
    "from sklearn.cluster import AffinityPropagation\n",
    "seed(17)\n",
    "g1 = multivariate_normal([1.3, 0.0], [[1, 0.4], [0.4, 1]], 80)\n",
    "g2 = multivariate_normal([6.0, 8.0], [[1.2, 0.3], [0.3, 0.5]], 50)\n",
    "g3 = multivariate_normal([3.0, -9.0], [[0.75, 0.6], [0.6, 2]], 75)\n",
    "x = concatenate((g1, g2, g3))\n",
    "m = AffinityPropagation(damping = 0.9, convergence_iter = 30)\n",
    "c = m.fit(x)\n",
    "grupos = c.labels_\n",
    "plt.clf()\n",
    "plt.figure(1)\n",
    "k = len(unique(grupos))\n",
    "colores = sns.color_palette(\"husl\", k)\n",
    "for g in range(k):\n",
    "    incl = where(grupos == g)[0]\n",
    "    print(len(incl), \"integrantes en grupo\", g)\n",
    "    grupo = take(x, incl, 0)\n",
    "    plt.scatter(grupo[:, 0], grupo[:, 1], marker='o', s=20, linewidths=2, color=colores[g], alpha = 0.6, zorder=5)\n",
    "plt.show()\n",
    "print(metrics.silhouette_score(x, grupos, metric='euclidean'))"
   ]
  },
  {
   "cell_type": "code",
   "execution_count": 5,
   "metadata": {},
   "outputs": [
    {
     "data": {
      "text/html": [
       "<div>\n",
       "<style scoped>\n",
       "    .dataframe tbody tr th:only-of-type {\n",
       "        vertical-align: middle;\n",
       "    }\n",
       "\n",
       "    .dataframe tbody tr th {\n",
       "        vertical-align: top;\n",
       "    }\n",
       "\n",
       "    .dataframe thead th {\n",
       "        text-align: right;\n",
       "    }\n",
       "</style>\n",
       "<table border=\"1\" class=\"dataframe\">\n",
       "  <thead>\n",
       "    <tr style=\"text-align: right;\">\n",
       "      <th></th>\n",
       "      <th>gender</th>\n",
       "      <th>race</th>\n",
       "      <th>parental-ed</th>\n",
       "      <th>lunch</th>\n",
       "      <th>prep</th>\n",
       "      <th>math</th>\n",
       "      <th>read</th>\n",
       "      <th>write</th>\n",
       "    </tr>\n",
       "  </thead>\n",
       "  <tbody>\n",
       "    <tr>\n",
       "      <th>0</th>\n",
       "      <td>female</td>\n",
       "      <td>group B</td>\n",
       "      <td>bachelor's degree</td>\n",
       "      <td>standard</td>\n",
       "      <td>none</td>\n",
       "      <td>72</td>\n",
       "      <td>72</td>\n",
       "      <td>74</td>\n",
       "    </tr>\n",
       "    <tr>\n",
       "      <th>1</th>\n",
       "      <td>female</td>\n",
       "      <td>group C</td>\n",
       "      <td>some college</td>\n",
       "      <td>standard</td>\n",
       "      <td>completed</td>\n",
       "      <td>69</td>\n",
       "      <td>90</td>\n",
       "      <td>88</td>\n",
       "    </tr>\n",
       "    <tr>\n",
       "      <th>2</th>\n",
       "      <td>female</td>\n",
       "      <td>group B</td>\n",
       "      <td>master's degree</td>\n",
       "      <td>standard</td>\n",
       "      <td>none</td>\n",
       "      <td>90</td>\n",
       "      <td>95</td>\n",
       "      <td>93</td>\n",
       "    </tr>\n",
       "  </tbody>\n",
       "</table>\n",
       "</div>"
      ],
      "text/plain": [
       "   gender     race        parental-ed     lunch       prep  math  read  write\n",
       "0  female  group B  bachelor's degree  standard       none    72    72     74\n",
       "1  female  group C       some college  standard  completed    69    90     88\n",
       "2  female  group B    master's degree  standard       none    90    95     93"
      ]
     },
     "execution_count": 5,
     "metadata": {},
     "output_type": "execute_result"
    }
   ],
   "source": [
    "e.head(3)"
   ]
  },
  {
   "cell_type": "code",
   "execution_count": 7,
   "metadata": {},
   "outputs": [
    {
     "data": {
      "text/plain": [
       "array(['group B', 'group C', 'group A', 'group D', 'group E'],\n",
       "      dtype=object)"
      ]
     },
     "execution_count": 7,
     "metadata": {},
     "output_type": "execute_result"
    }
   ],
   "source": [
    "e['race'].unique()"
   ]
  },
  {
   "cell_type": "code",
   "execution_count": 13,
   "metadata": {},
   "outputs": [
    {
     "data": {
      "text/plain": [
       "array([1, 2, 3, 4, 5])"
      ]
     },
     "execution_count": 13,
     "metadata": {},
     "output_type": "execute_result"
    }
   ],
   "source": [
    "e['race'] = pd.factorize(e.race)[0] + 1\n",
    "e['race'].unique()"
   ]
  },
  {
   "cell_type": "code",
   "execution_count": null,
   "metadata": {},
   "outputs": [],
   "source": [
    "import ssl\n",
    "import seaborn as sns\n",
    "import urllib.request\n",
    "import networkx as nx\n",
    "import matplotlib.pyplot as plt\n",
    "from collections import defaultdict\n",
    "from networkx.drawing.layout import spring_layout\n",
    "from networkx.algorithms.community import label_propagation_communities\n",
    "\n",
    "if getattr(ssl, '_create_unverified_context', None):\n",
    "    ssl._create_default_https_context = ssl._create_unverified_context\n",
    "    \n",
    "w = defaultdict(float) # ponderaciones\n",
    "\n",
    "for s in [x for x in range(1, 8)] + [x for x in range(9, 16)]:\n",
    "    url = \"https://elisa.dyndns-web.com/teaching/mat/discretas/ad18/semana_{:d}/sem_{:d}.txt\".format(s, s) \n",
    "    for line in urllib.request.urlopen(url):\n",
    "        l = line.decode(encoding='utf-8',errors='ignore')\n",
    "        if '#' in l: \n",
    "            continue\n",
    "        l = l.strip()\n",
    "        if len(l) > 0:\n",
    "            matr = l.split()\n",
    "            a = matr.pop(0) # quien recibe la ayuda\n",
    "            contrib = 1 / len(matr)\n",
    "            for h in matr: # los que ayudaron\n",
    "                w[(a, h)] += contrib\n",
    "\n",
    "G = nx.Graph()\n",
    "for (a, h) in w:\n",
    "    value = w[(a, h)]\n",
    "    if value > 0:\n",
    "        G.add_edge(h[2:], a[2:], weight = value)\n",
    "\n",
    "plt.rcParams[\"figure.figsize\"] = [16, 16]\n",
    "pos = nx.spring_layout(G, k = 0.25)\n",
    "gr = [g for g in label_propagation_communities(G)]\n",
    "k = len(gr)\n",
    "print(k)\n",
    "palette = sns.color_palette(\"hls\", k)\n",
    "a = dict()\n",
    "for g in gr:\n",
    "    c = palette.pop()    \n",
    "    for v in g:\n",
    "        a[v] = c \n",
    "colors = [a[v] for v in G.nodes] \n",
    "nx.draw(G, node_color = colors, node_size = 850, alpha = 0.8, with_labels = True)\n",
    "plt.show()"
   ]
  }
 ],
 "metadata": {
  "kernelspec": {
   "display_name": "Python 3",
   "language": "python",
   "name": "python3"
  },
  "language_info": {
   "codemirror_mode": {
    "name": "ipython",
    "version": 3
   },
   "file_extension": ".py",
   "mimetype": "text/x-python",
   "name": "python",
   "nbconvert_exporter": "python",
   "pygments_lexer": "ipython3",
   "version": "3.7.1"
  }
 },
 "nbformat": 4,
 "nbformat_minor": 2
}
