{
 "cells": [
  {
   "cell_type": "markdown",
   "metadata": {},
   "source": [
    "# Práctica 1: Preparación de Datos.\n",
    "\n",
    "\n",
    "## Introducción\n",
    "\n",
    "En esta práctica se buscaron datos de la página de _[Kaggle](https://www.kaggle.com/datasets)_ tomando el conjunto de datos de Diagnóstico de Cáncer de mama de Wisconsin, Estados Unidos. Estos datos contienen el diagnóstico y una serie de características que se presentan en una imagen digitalizada de una masa en el seno, sin especificar el lado. Estos datos se usan en el ámbito de investigación científica, intentando caracterizar los principales marcadores que permitan separar el diagnóstico de una anomalía benigna a una maligna.\n",
    "\n",
    "Las preguntas de interés para estudiar este tipo de datos pueden ser las siguientes:\n",
    "\n",
    "- ¿Cuáles son las características más predominantes de las anomalías malignas?\n",
    "\n",
    "- ¿Qué marcadores permiten caracterizar una anomalía maligna?\n",
    "\n",
    "- ¿Qué marcadores intersectan tanto en las anomalías malignas como en las benignas?\n",
    "\n",
    "- ¿Cómo se relacionan todas estas características para que el diagnóstico final de la anomalía sea maligno, y cual será la relación con las anomalías benignas?\n",
    "\n",
    "- Por último, la pregunta que puede resultar de mayor importancia, y a la cual se quiere guiar en esta investigación, es si al utilizar todos estos datos con pacientes no diagnosticados para poder hacer un diagnóstico inicial.\n",
    "\n",
    "## Preparación de datos:\n",
    "\n",
    "Se tiene una base de datos en formato .CVS, con registro de 532 mujeres que presentan una anomalía en el seno. Cada paciente es identificada por una clave numérica de 5 dígitos, y cualquier rasgo que pueda distinguir identidad no se revela en los datos.\n",
    "\n",
    "Los datos que se tienen en este conjunto se dividen de la siguente manera:\n",
    "\n",
    "Columnas:\n",
    "\n",
    "1. Id: Número de identificación.\n",
    "2. Diagnóstico: El diagnóstico oficial del tejido del seno (M es maligno y B es benigno)\n",
    "3. Radio medio: Media de las distancias desde el centro a los puntos en el perímetro.\n",
    "4. Textura media: Desviación estándar de los valores de escala de grises.\n",
    "5. Media del perímetro: Tamaño medio del nucleo del tumor.\n",
    "6. Área media.\n",
    "7. Suavidad media: Es la media de la variación local en longitud de radios.\n",
    "8. Compacidad media: Media del perímetro al cuadrado, entre el área menos 1.\n",
    "9. Concavidad media: Media de la severidad de las porciones cóncavas de contorno.\n",
    "10. Media de puntos cóncavos: Media para el número de porciones cóncavas en el controrno.\n",
    "11. Media Simétrica\n",
    "12. Radio-se: Es el error estándar de las distancias medias desde los puntos centrales en el perímetro.\n",
    "13. Textura-se: Es el error de la desviación estándar de los valores de la escala de grises.\n",
    "14. Perímetro-se\n",
    "15. Área-se\n",
    "16. Suavidad-se: Erros estándar para la variación local de longitud de radios.\n",
    "17. Compacidad-se: Error estándar para el perímetro al cuadrado entre el área menos uno.\n",
    "18. Concavidad-se: Error estándar para la severidad de las porciones cóncavas del contorno.\n",
    "19. Puntos cóncavos-se: Error estándar por el numero de porciones cóncavas del contorno.\n",
    "20. Simetría-se:\n",
    "21. Dimensión Fractal-se: Error estándar para la “Aproximacion de costline” menos uno.\n",
    "22. Peor Radio: Peor o mayor valor de la media de la distancia desde el centro a los puntos en el perímetro.\n",
    "23. Peor textura: Peor o más grande valor de media para la desviación estándar de los valores de la escala de grises.\n",
    "24. Peor perímetro\n",
    "25. Peor área.\n",
    "26. Peor suavidad: Peor o mayor valor de media para la variación local en el tamaño del radio.\n",
    "27. Peor compacidad: Peor o mayor valor de media para el perímetro elevado al cuadrado entre el área menos uno.\n",
    "28. Peor concavidad: Peor o mayor valor de media por la severidad de las partes cóncavas del contorno.\n",
    "29. Peores puntos cóncavos: Peor o mas grande valor de la media por el número de porciones cóncavas del contorno.\n",
    "30. Peor simetría.\n",
    "31. Peor dimensión fractal: Peor o mayor valor de media para la aproximación “costline” menos uno.\n",
    "\n",
    "Se conoce además que todos los datos están compuestos hasta cuatro dígitos de significancia. Su clase es de 357 benignos y 212 malignos.\n",
    "\n",
    "Los siguientes pasos se realizan con la finalidad de ordenar correctamente los datos y facilitar su uso a nivel estadístico.\n",
    "\n",
    "Se inicia realizando una copia del archivo csv, que es llamado “w-data.csv”.\n"
   ]
  },
  {
   "cell_type": "code",
   "execution_count": null,
   "metadata": {},
   "outputs": [],
   "source": [
    "cp w-data.csv bp_w-data.csv"
   ]
  },
  {
   "cell_type": "markdown",
   "metadata": {},
   "source": [
    "En esta copia se realizó una búsqueda para saber si en alguna de las columnas del archivo existe alguna celda que este vacía. Si este fuera el caso, se reemplaza la celda vacia con un NE, para No Existe."
   ]
  },
  {
   "cell_type": "code",
   "execution_count": null,
   "metadata": {},
   "outputs": [],
   "source": [
    "sed 's/, $/&NE/' bp_w-data.csv"
   ]
  },
  {
   "cell_type": "markdown",
   "metadata": {},
   "source": [
    "Todos los datos de la tabla son numéricos a excepción de la columna del diagnóstico, y con línea de código siguiente: \n"
   ]
  },
  {
   "cell_type": "code",
   "execution_count": null,
   "metadata": {},
   "outputs": [],
   "source": [
    "awk -F',' '{print $2 }' bp_w-data.csv | sort | uniq -c\n",
    "   1 \"diagnosis\"\n",
    " 357 B\n",
    " 212 M"
   ]
  },
  {
   "cell_type": "markdown",
   "metadata": {},
   "source": [
    "Podemos ver que las únicas dos opciones que existen en el diagnóstico es benigno o maligno, y comprueba que se tienen 357 casos de anomalías benignas y 212 casos de anomalías malignas."
   ]
  }
 ],
 "metadata": {
  "kernelspec": {
   "display_name": "Python 3",
   "language": "python",
   "name": "python3"
  },
  "language_info": {
   "codemirror_mode": {
    "name": "ipython",
    "version": 3
   },
   "file_extension": ".py",
   "mimetype": "text/x-python",
   "name": "python",
   "nbconvert_exporter": "python",
   "pygments_lexer": "ipython3",
   "version": "3.7.1"
  }
 },
 "nbformat": 4,
 "nbformat_minor": 2
}
